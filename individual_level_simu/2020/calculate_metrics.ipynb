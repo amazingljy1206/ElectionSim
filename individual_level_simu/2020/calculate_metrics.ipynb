{
 "cells": [
  {
   "cell_type": "code",
   "execution_count": 33,
   "metadata": {},
   "outputs": [],
   "source": [
    "import json\n",
    "import os\n",
    "from sklearn.metrics import f1_score, accuracy_score\n",
    "\n",
    "path = 'output/gpt_4o_mini.jsonl'\n",
    "with open(path, 'r') as f:\n",
    "    data = [json.loads(line) for line in f]\n",
    "\n",
    "question_codes = list(data[0]['questions_log'].keys())"
   ]
  },
  {
   "cell_type": "code",
   "execution_count": 34,
   "metadata": {},
   "outputs": [],
   "source": [
    "mapping = {} # 问题编码到问题的真实、预测结果映射\n",
    "\n",
    "for question_code in question_codes:\n",
    "    mapping[question_code] = {'label': [], 'prediction': []}\n",
    "    for item in data:\n",
    "        if item['questions_log'][question_code] < 0:\n",
    "            continue\n",
    "        mapping[question_code]['label'].append(item['questions_log'][question_code])\n",
    "        mapping[question_code]['prediction'].append(item['questions_simu_log'][question_code])\n",
    "\n",
    "scores = {}\n",
    "for question_code in question_codes:\n",
    "    labels = mapping[question_code]['label']\n",
    "    preds = mapping[question_code]['prediction']\n",
    "    micro_f1 = f1_score(labels, preds, average='micro')\n",
    "    macro_f1 = f1_score(labels, preds, average='macro')\n",
    "    scores[question_code] = {'micro': micro_f1, 'macro': macro_f1}"
   ]
  },
  {
   "cell_type": "code",
   "execution_count": 35,
   "metadata": {},
   "outputs": [
    {
     "name": "stdout",
     "output_type": "stream",
     "text": [
      "output_wo_neutral/gpt_4o_mini_1k.jsonl\n",
      "===Overall===\n",
      "Average Micro: 0.7464\n",
      "Average Macro: 0.5430\n",
      "===Subset===\n",
      "Average Micro: 0.7926\n",
      "Average Macro: 0.6396\n"
     ]
    }
   ],
   "source": [
    "total_micro, total_macro = 0, 0\n",
    "total_micro_subset, total_macro_subset = 0, 0\n",
    "subset_codes =  ['V201007a', 'V201239', 'V201240', 'V201241', 'V201242', 'V201227']\n",
    "\n",
    "for question_id, score in scores.items():\n",
    "    total_micro += score['micro']\n",
    "    total_macro += score['macro']\n",
    "    if question_id in subset_codes:\n",
    "        total_micro_subset += score['micro']\n",
    "        total_macro_subset += score['macro']\n",
    "\n",
    "avg_micro = total_micro / len(scores)\n",
    "avg_macro = total_macro / len(scores)\n",
    "avg_micro_subset = total_micro_subset / len(subset_codes)\n",
    "avg_macro_subset = total_macro_subset / len(subset_codes)\n",
    "\n",
    "print(path)\n",
    "print(\"===Overall===\")\n",
    "print(f'Average Micro: {avg_micro:.4f}')\n",
    "print(f'Average Macro: {avg_macro:.4f}')\n",
    "print(\"===Subset===\")\n",
    "print(f'Average Micro: {avg_micro_subset:.4f}')\n",
    "print(f'Average Macro: {avg_macro_subset:.4f}')"
   ]
  },
  {
   "cell_type": "code",
   "execution_count": null,
   "metadata": {},
   "outputs": [],
   "source": []
  }
 ],
 "metadata": {
  "kernelspec": {
   "display_name": "agent",
   "language": "python",
   "name": "python3"
  },
  "language_info": {
   "codemirror_mode": {
    "name": "ipython",
    "version": 3
   },
   "file_extension": ".py",
   "mimetype": "text/x-python",
   "name": "python",
   "nbconvert_exporter": "python",
   "pygments_lexer": "ipython3",
   "version": "3.12.2"
  }
 },
 "nbformat": 4,
 "nbformat_minor": 2
}
