{
 "cells": [
  {
   "cell_type": "code",
   "execution_count": 26,
   "metadata": {},
   "outputs": [],
   "source": [
    "import json\n",
    "import os"
   ]
  },
  {
   "cell_type": "code",
   "execution_count": 27,
   "metadata": {},
   "outputs": [],
   "source": [
    "eval_folder = 'output/2016_1000'\n",
    "year = '2016'\n",
    "year_code_mapping = {\n",
    "    '2016': 'V162034a',\n",
    "    '2020': 'V201007a',\n",
    "    '2024': 'V201007a'\n",
    "}\n",
    "vote_question_code = year_code_mapping[year]\n",
    "pattern= '31'\n",
    "\n",
    "states = [item for item in os.listdir(eval_folder) if os.path.isdir(os.path.join(eval_folder, item))]\n",
    "eval_data = {}\n",
    "\n",
    "for state in states:\n",
    "    eval_path = os.path.join(eval_folder, state, 'final_output.jsonl')\n",
    "    with open(eval_path, 'r') as f:\n",
    "        eval_data[state] = [json.loads(line) for line in f]\n",
    "\n",
    "# vote num\n",
    "vote = {}\n",
    "for state in states:\n",
    "    demo, rep = 0, 0\n",
    "    for agent_log in eval_data[state]:\n",
    "        if agent_log[\"answer_log\"][vote_question_code] == 1:\n",
    "            demo += 1\n",
    "        elif agent_log[\"answer_log\"][vote_question_code] == 2:\n",
    "            rep += 1\n",
    "    vote[state] = {'demo': demo,\n",
    "                    'rep': rep}\n",
    "\n",
    "# vote share\n",
    "ratio = {}\n",
    "for state, res in vote.items():\n",
    "    ratio[state] = {\n",
    "        'demo': round(100*res['demo']/(res['demo'] + res['rep']), 2),\n",
    "        'rep' : round(100*res['rep']/(res['demo'] + res['rep']), 2)\n",
    "    }\n",
    "\n",
    "# state res\n",
    "state_res = {}\n",
    "for state, res in vote.items():\n",
    "    if res['demo'] > res['rep']:\n",
    "        state_res[state] = 'demo'\n",
    "    else:\n",
    "        state_res[state] = 'rep'"
   ]
  },
  {
   "cell_type": "code",
   "execution_count": 28,
   "metadata": {},
   "outputs": [],
   "source": [
    "# statistics res\n",
    "dir = f'res_statistics/{ratio}/{year}/{pattern}'\n",
    "os.makedirs(dir, exist_ok=True)\n",
    "\n",
    "with open(f'{dir}/count.json', 'w') as f:\n",
    "    json.dump(vote, f, ensure_ascii=False, indent=4)\n",
    "with open(f'{dir}/ratio.json', 'w') as f:\n",
    "    json.dump(ratio, f, ensure_ascii=False, indent=4)\n",
    "with open(f'{dir}/result.json', 'w') as f:\n",
    "    json.dump(state_res, f, ensure_ascii=False, indent=4)"
   ]
  },
  {
   "cell_type": "markdown",
   "metadata": {},
   "source": [
    "### Count vote num"
   ]
  },
  {
   "cell_type": "code",
   "execution_count": 29,
   "metadata": {},
   "outputs": [],
   "source": [
    "# with open(f'state_vote_nums/{year}.json', 'r') as f:\n",
    "#     vote_num = json.load(f)\n",
    "\n",
    "# vote_count = {'demo':0, 'rep':0}\n",
    "# for state, count in vote_num.items():\n",
    "#     vote_count[state_res[state]] += count\n",
    "\n",
    "# vote_count"
   ]
  },
  {
   "cell_type": "markdown",
   "metadata": {},
   "source": [
    "### Calculate vote share and RMSE"
   ]
  },
  {
   "cell_type": "code",
   "execution_count": 30,
   "metadata": {},
   "outputs": [],
   "source": [
    "import numpy as np\n",
    "\n",
    "def norm_and_rmse(pred, target):\n",
    "    pred = np.array([item/sum(pred) for item in pred])\n",
    "    target = np.array([item/sum(target) for item in target])\n",
    "    # print(pred)\n",
    "    # print(target)\n",
    "    return np.sqrt(((pred - target) ** 2).mean())"
   ]
  },
  {
   "cell_type": "code",
   "execution_count": 31,
   "metadata": {},
   "outputs": [
    {
     "name": "stdout",
     "output_type": "stream",
     "text": [
      "Maine\n",
      "Michigan\n",
      "Nevada\n",
      "Wisconsin\n",
      "Correct num:\n",
      "total:47battle:12\n",
      "\n",
      "RMSE:\n",
      "total:0.018912949651287623battle:0.006955608939401301\n",
      "\n"
     ]
    }
   ],
   "source": [
    "ref_path = f'gt_election/{year}.json'\n",
    "with open(ref_path, 'r') as f:\n",
    "    ref = json.load(f)\n",
    "pred = ratio\n",
    "\n",
    "battleground_states = ['Arizona', 'Colorado', 'Florida', 'Georgia', 'Iowa', 'Michigan', 'Minnesota', 'Nevada', 'New_Hampshire', 'North_Carolina', 'Ohio', 'Pennsylvania', 'Texas', 'Virginia', 'Wisconsin']\n",
    "\n",
    "correct_count = {'battle': 0, 'total': 0}\n",
    "rmses = {'battle': [], 'total': []}\n",
    "for state, ref_ratio in ref.items():\n",
    "    pred_ratio = pred[state]\n",
    "    if (pred_ratio['demo'] - pred_ratio['rep'])*(ref_ratio['demo'] - ref_ratio['rep']) > 0:\n",
    "        correct_count['total'] += 1\n",
    "        if state in battleground_states:\n",
    "            correct_count['battle'] += 1\n",
    "    else:\n",
    "        # print(state)\n",
    "        continue\n",
    "    rmse_cur = norm_and_rmse(pred_ratio.values(), ref_ratio.values())\n",
    "    rmses['total'].append(rmse_cur)\n",
    "    if state in battleground_states:\n",
    "        rmses['battle'].append(rmse_cur)\n",
    "\n",
    "print(f\"Correct num:\\ntotal:{correct_count['total']}\\nbattle:{correct_count['battle']}\\n\")\n",
    "print(f\"RMSE:\\ntotal:{np.mean(rmses['total'])}\\nbattle:{np.mean(rmses['battle'])}\\n\")"
   ]
  },
  {
   "cell_type": "code",
   "execution_count": null,
   "metadata": {},
   "outputs": [],
   "source": []
  }
 ],
 "metadata": {
  "kernelspec": {
   "display_name": "electionsim",
   "language": "python",
   "name": "python3"
  },
  "language_info": {
   "codemirror_mode": {
    "name": "ipython",
    "version": 3
   },
   "file_extension": ".py",
   "mimetype": "text/x-python",
   "name": "python",
   "nbconvert_exporter": "python",
   "pygments_lexer": "ipython3",
   "version": "3.10.0"
  }
 },
 "nbformat": 4,
 "nbformat_minor": 2
}
